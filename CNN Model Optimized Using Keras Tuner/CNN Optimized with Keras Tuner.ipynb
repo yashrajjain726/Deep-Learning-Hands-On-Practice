{
 "cells": [
  {
   "cell_type": "code",
   "execution_count": 1,
   "metadata": {},
   "outputs": [],
   "source": [
    "import tensorflow as tf\n",
    "from tensorflow import keras\n",
    "import numpy as np\n",
    "import matplotlib.pyplot as plt"
   ]
  },
  {
   "cell_type": "code",
   "execution_count": 2,
   "metadata": {},
   "outputs": [],
   "source": [
    "dataset  = keras.datasets.fashion_mnist"
   ]
  },
  {
   "cell_type": "code",
   "execution_count": 3,
   "metadata": {},
   "outputs": [],
   "source": [
    "(train_images, train_labels),(test_images,test_lables) = dataset.load_data()"
   ]
  },
  {
   "cell_type": "markdown",
   "metadata": {},
   "source": [
    "#### Scaling Down Images"
   ]
  },
  {
   "cell_type": "code",
   "execution_count": 4,
   "metadata": {},
   "outputs": [],
   "source": [
    "train_images = train_images / 255.0\n",
    "test_images = test_images / 255.0"
   ]
  },
  {
   "cell_type": "code",
   "execution_count": 5,
   "metadata": {},
   "outputs": [
    {
     "data": {
      "text/plain": [
       "(28, 28)"
      ]
     },
     "execution_count": 5,
     "metadata": {},
     "output_type": "execute_result"
    }
   ],
   "source": [
    "## Getting the pixels of images\n",
    "train_images[0].shape"
   ]
  },
  {
   "cell_type": "code",
   "execution_count": 6,
   "metadata": {},
   "outputs": [],
   "source": [
    "## Resizing the images\n",
    "train_images = train_images.reshape(len(train_images),28,28,1)\n",
    "test_images = test_images.reshape(len(test_images),28,28,1)"
   ]
  },
  {
   "cell_type": "code",
   "execution_count": 7,
   "metadata": {},
   "outputs": [],
   "source": [
    "def built_model(hyperparams):\n",
    "    model = keras.Sequential([\n",
    "        \n",
    "        keras.layers.Conv2D(\n",
    "        filters = hyperparams.Int('conv_1_filter',min_value=32,max_value=128,step=16),\n",
    "        kernel_size=hyperparams.Choice('conv_1_kernel',values=[3,5]),## Size of Filter\n",
    "        activation='relu',\n",
    "        input_shape=(28,28,1)\n",
    "        ),\n",
    "        \n",
    "        keras.layers.Conv2D(\n",
    "        filters = hyperparams.Int('conv_2_filter',min_value=32,max_value=64,step=16),\n",
    "        kernel_size=hyperparams.Choice('conv_2_kernel',values=[3,5]),## Size of Filter\n",
    "        activation='relu',\n",
    "        ),\n",
    "        \n",
    "        keras.layers.Flatten(),\n",
    "        keras.layers.Dense(\n",
    "        units=hyperparams.Int('dense_1_units',min_value=32,max_value=128,step=16),\n",
    "        activation='relu'\n",
    "        ),\n",
    "        \n",
    "        keras.layers.Dense(10,activation='softmax')\n",
    "    ])\n",
    "    \n",
    "    model.compile(optimizer = keras.optimizers.Adam(hyperparams.Choice('learning_rate',values=[1e-2,1e-3])),\n",
    "                     loss='sparse_categorical_crossentropy',\n",
    "                     metrics=['accuracy'])\n",
    "    return model\n",
    "    "
   ]
  },
  {
   "cell_type": "code",
   "execution_count": 8,
   "metadata": {},
   "outputs": [],
   "source": [
    "from kerastuner import RandomSearch\n",
    "from kerastuner.engine.hyperparameters import HyperParameters"
   ]
  },
  {
   "cell_type": "code",
   "execution_count": 9,
   "metadata": {},
   "outputs": [
    {
     "name": "stdout",
     "output_type": "stream",
     "text": [
      "INFO:tensorflow:Reloading Oracle from existing project output\\MNIST_FASHION\\oracle.json\n",
      "INFO:tensorflow:Reloading Tuner from output\\MNIST_FASHION\\tuner0.json\n"
     ]
    }
   ],
   "source": [
    "tuner_search = RandomSearch(built_model,objective='val_accuracy',max_trials=5,directory='output',project_name='MNIST_FASHION')"
   ]
  },
  {
   "cell_type": "code",
   "execution_count": 10,
   "metadata": {},
   "outputs": [
    {
     "name": "stdout",
     "output_type": "stream",
     "text": [
      "[PhysicalDevice(name='/physical_device:GPU:0', device_type='GPU')]\n",
      "True\n"
     ]
    }
   ],
   "source": [
    "print(tf.config.list_physical_devices('GPU'))\n",
    "print(tf.test.is_built_with_cuda())"
   ]
  },
  {
   "cell_type": "code",
   "execution_count": 11,
   "metadata": {
    "scrolled": true
   },
   "outputs": [
    {
     "name": "stdout",
     "output_type": "stream",
     "text": [
      "INFO:tensorflow:Oracle triggered exit\n"
     ]
    }
   ],
   "source": [
    "tuner_search.search(train_images,train_labels,epochs=3,validation_split=0.1) \n",
    "## It will find the best parameter. \n",
    "## NOTE: BY DEFAULT IT WILL RUN ONLY FOR 2 EPOCHS, SO CHANGE ACCORDINGLY TO IT."
   ]
  },
  {
   "cell_type": "code",
   "execution_count": 12,
   "metadata": {},
   "outputs": [],
   "source": [
    "model = tuner_search.get_best_models(num_models=1)[0]"
   ]
  },
  {
   "cell_type": "code",
   "execution_count": 13,
   "metadata": {},
   "outputs": [
    {
     "name": "stdout",
     "output_type": "stream",
     "text": [
      "Model: \"sequential\"\n",
      "_________________________________________________________________\n",
      "Layer (type)                 Output Shape              Param #   \n",
      "=================================================================\n",
      "conv2d (Conv2D)              (None, 26, 26, 128)       1280      \n",
      "_________________________________________________________________\n",
      "conv2d_1 (Conv2D)            (None, 24, 24, 48)        55344     \n",
      "_________________________________________________________________\n",
      "flatten (Flatten)            (None, 27648)             0         \n",
      "_________________________________________________________________\n",
      "dense (Dense)                (None, 112)               3096688   \n",
      "_________________________________________________________________\n",
      "dense_1 (Dense)              (None, 10)                1130      \n",
      "=================================================================\n",
      "Total params: 3,154,442\n",
      "Trainable params: 3,154,442\n",
      "Non-trainable params: 0\n",
      "_________________________________________________________________\n"
     ]
    }
   ],
   "source": [
    "model.summary()"
   ]
  },
  {
   "cell_type": "code",
   "execution_count": null,
   "metadata": {},
   "outputs": [
    {
     "name": "stdout",
     "output_type": "stream",
     "text": [
      "Epoch 4/10\n"
     ]
    }
   ],
   "source": [
    "model.fit(train_images,train_labels,epochs=10,validation_split=0.1,initial_epoch=3)"
   ]
  },
  {
   "cell_type": "code",
   "execution_count": null,
   "metadata": {},
   "outputs": [],
   "source": []
  }
 ],
 "metadata": {
  "kernelspec": {
   "display_name": "Python 3",
   "language": "python",
   "name": "python3"
  },
  "language_info": {
   "codemirror_mode": {
    "name": "ipython",
    "version": 3
   },
   "file_extension": ".py",
   "mimetype": "text/x-python",
   "name": "python",
   "nbconvert_exporter": "python",
   "pygments_lexer": "ipython3",
   "version": "3.8.3"
  }
 },
 "nbformat": 4,
 "nbformat_minor": 4
}
